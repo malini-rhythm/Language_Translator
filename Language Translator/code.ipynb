{
 "cells": [
  {
   "cell_type": "code",
   "execution_count": 7,
   "id": "b1d088c3",
   "metadata": {},
   "outputs": [
    {
     "name": "stdout",
     "output_type": "stream",
     "text": [
      "te\n",
      "మీరు ఎవరు\n"
     ]
    }
   ],
   "source": [
    "from gtts import gTTS\n",
    "from io import BytesIO\n",
    "from pygame import mixer\n",
    "import time\n",
    "import gtts\n",
    "from deep_translator import GoogleTranslator as GT\n",
    "\n",
    "lang_list = gtts.lang.tts_langs()\n",
    "\n",
    "lang_key_list = list(lang_list.keys())\n",
    "lang_val_list = [i.strip().lower() for i in list(lang_list.values())]\n",
    "\n",
    "def speak(txt, target_lang):\n",
    "    print (target_lang)\n",
    "    translated_text = GT(source = 'auto', target = target_lang).translate(txt)\n",
    "    print (translated_text)\n",
    "\n",
    "    time.sleep(5)\n",
    "    mp3_fp = BytesIO()\n",
    "    tts = gTTS(translated_text,lang = target_lang)\n",
    "    tts.write_to_fp(mp3_fp)\n",
    "\n",
    "    mixer.init()\n",
    "    mp3_fp.seek(0)\n",
    "    mixer.music.load(mp3_fp, \"mp3\")\n",
    "    mixer.music.play()\n",
    "\n",
    "\n",
    "if __name__ == \"__main__\":\n",
    "    text = input(\"Enter the text in English: \")\n",
    "    tlang = input(\"Enter the target language: \")\n",
    "    tlang = tlang.lower()\n",
    "\n",
    "    if len(tlang) == 2 and tlang in lang_key_list:\n",
    "        speak(text, tlang)\n",
    "    elif len(tlang) == 2 and tlang not in lang_key_list:\n",
    "        t = \"Please enter a valid language code\"\n",
    "        print (t)\n",
    "        speak(t, \"en\")\n",
    "    elif tlang in lang_val_list:\n",
    "        lk = lang_val_list.index(tlang)\n",
    "        ta_l = lang_key_list[lk]\n",
    "        speak(text, ta_l)\n",
    "    else:\n",
    "        t = \"Please check the language input\"\n",
    "        print (t)\n",
    "        speak(t, \"en\")"
   ]
  }
 ],
 "metadata": {
  "kernelspec": {
   "display_name": "base",
   "language": "python",
   "name": "python3"
  },
  "language_info": {
   "codemirror_mode": {
    "name": "ipython",
    "version": 3
   },
   "file_extension": ".py",
   "mimetype": "text/x-python",
   "name": "python",
   "nbconvert_exporter": "python",
   "pygments_lexer": "ipython3",
   "version": "3.12.7"
  }
 },
 "nbformat": 4,
 "nbformat_minor": 5
}
